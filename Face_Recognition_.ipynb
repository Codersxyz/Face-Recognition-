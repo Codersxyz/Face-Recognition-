{
  "nbformat": 4,
  "nbformat_minor": 0,
  "metadata": {
    "colab": {
      "name": "Face_Recognition_.ipynb",
      "provenance": []
    },
    "kernelspec": {
      "name": "python3",
      "display_name": "Python 3"
    },
    "language_info": {
      "name": "python"
    }
  },
  "cells": [
    {
      "cell_type": "markdown",
      "metadata": {
        "id": "mbXXb6wZh9kC"
      },
      "source": [
        "### Face recognition "
      ]
    },
    {
      "cell_type": "markdown",
      "metadata": {
        "id": "H8AycFkKyikt"
      },
      "source": [
        "### Implementing KNN algorithm for face recognition"
      ]
    },
    {
      "cell_type": "markdown",
      "metadata": {
        "id": "EIYSBsTeeNEZ"
      },
      "source": [
        "Importing Packages\n"
      ]
    },
    {
      "cell_type": "code",
      "metadata": {
        "id": "_jp6PB4rcwFA"
      },
      "source": [
        "import numpy as np\n",
        "from sklearn.neighbors import KNeighborsClassifier"
      ],
      "execution_count": null,
      "outputs": []
    },
    {
      "cell_type": "markdown",
      "metadata": {
        "id": "NGqrwwORettN"
      },
      "source": [
        "Loading the data"
      ]
    },
    {
      "cell_type": "code",
      "metadata": {
        "id": "kUcoMhHPe1QV"
      },
      "source": [
        "from google.colab import drive\n",
        "drive.mount (\"/content/gdrive/\")    # mounting drive"
      ],
      "execution_count": null,
      "outputs": []
    },
    {
      "cell_type": "code",
      "metadata": {
        "id": "zMjQ_DL6fUyL"
      },
      "source": [
        "path = \"/content/gdrive/My Drive/face-recog-data/\"\n",
        "x_train = np.load(path+\"X_train_new.npy\")\n",
        "y_train = np.load(path+\"Y_train.npy\")"
      ],
      "execution_count": null,
      "outputs": []
    },
    {
      "cell_type": "markdown",
      "metadata": {
        "id": "Xt6pU3tEgbix"
      },
      "source": [
        "Creating Model\n"
      ]
    },
    {
      "cell_type": "code",
      "metadata": {
        "id": "79SGgF4tghe3"
      },
      "source": [
        "knn = KNeighborsClassifier()\n",
        "knn.fit(x_train,y_train)    # training"
      ],
      "execution_count": null,
      "outputs": []
    },
    {
      "cell_type": "markdown",
      "metadata": {
        "id": "mTT14Rwgg0QY"
      },
      "source": [
        "Making Predictions\n"
      ]
    },
    {
      "cell_type": "code",
      "metadata": {
        "id": "1heAf_bDg5VE"
      },
      "source": [
        "knn.predict(x_train[:-1])   # predicting"
      ],
      "execution_count": null,
      "outputs": []
    },
    {
      "cell_type": "markdown",
      "metadata": {
        "id": "Ln863oLfiRNz"
      },
      "source": [
        "### Creating Face Data/ Saving Face data as .npy"
      ]
    },
    {
      "cell_type": "code",
      "metadata": {
        "id": "JWY87EcGicBv"
      },
      "source": [
        "import cv2\n",
        "import numpy as np"
      ],
      "execution_count": null,
      "outputs": []
    },
    {
      "cell_type": "code",
      "metadata": {
        "id": "pdeqqcAgi5Nh"
      },
      "source": [
        "cap = cv2.VideoCapture(0)\n",
        "\n",
        "path = \"C:\\\\haarcascade_frontalface_alt.xml\"\n",
        "face_cascade = cv2.CascadeClassifier(path)\n",
        "\n",
        "X = []\n",
        "d = 10"
      ],
      "execution_count": null,
      "outputs": []
    },
    {
      "cell_type": "code",
      "metadata": {
        "id": "KmZWG92ujISy"
      },
      "source": [
        "while True :\n",
        "  ret, frame =  capture.read()\n",
        "  if ret == False:\n",
        "      continue\n",
        "  face = face_cascade.detectMultiScale(frame) # detects faces in the image\n",
        "  for face in faces : \n",
        "    x,y,w,h = face\n",
        "    face_section = frame[y-d:y+h+d,x-d:x+w+d]\n",
        "    face_section = cv2.resize(face_section,(100,100))\n",
        "\n",
        "  cv2.imshow(\"face section\",face_section)\n",
        "\n",
        "  X.append(face_section.reshape(1,-1))   # appending face data\n",
        "\n",
        "  # exiting the loop\n",
        "  key_pressed = cv2.waitKey(25)\n",
        "   if key_pressed == ord ('q') :\n",
        "    print (key_pressed)\n",
        "    print (\"Q was pressed\")\n",
        "    break\n",
        "cap.release()\n",
        "cv2.destroyAllWindows()\n",
        "\n",
        "X = np.array(X)     # converting the X list to numpy array\n",
        "name = input (\"Enter name : \")      # naming the file \n",
        "np.save(name,X)   # saving the file\n"
      ],
      "execution_count": null,
      "outputs": []
    }
  ]
}